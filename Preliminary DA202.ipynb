{
 "cells": [
  {
   "cell_type": "markdown",
   "id": "a1a563da",
   "metadata": {},
   "source": [
    "# Importing necessary libraries and loading the data"
   ]
  },
  {
   "cell_type": "code",
   "execution_count": 1,
   "id": "9cd84243",
   "metadata": {},
   "outputs": [
    {
     "data": {
      "text/html": [
       "<div>\n",
       "<style scoped>\n",
       "    .dataframe tbody tr th:only-of-type {\n",
       "        vertical-align: middle;\n",
       "    }\n",
       "\n",
       "    .dataframe tbody tr th {\n",
       "        vertical-align: top;\n",
       "    }\n",
       "\n",
       "    .dataframe thead th {\n",
       "        text-align: right;\n",
       "    }\n",
       "</style>\n",
       "<table border=\"1\" class=\"dataframe\">\n",
       "  <thead>\n",
       "    <tr style=\"text-align: right;\">\n",
       "      <th></th>\n",
       "      <th>listing_id</th>\n",
       "      <th>host_name</th>\n",
       "      <th>last_review</th>\n",
       "    </tr>\n",
       "  </thead>\n",
       "  <tbody>\n",
       "    <tr>\n",
       "      <th>0</th>\n",
       "      <td>2595</td>\n",
       "      <td>Jennifer</td>\n",
       "      <td>May 21 2019</td>\n",
       "    </tr>\n",
       "    <tr>\n",
       "      <th>1</th>\n",
       "      <td>3831</td>\n",
       "      <td>LisaRoxanne</td>\n",
       "      <td>July 05 2019</td>\n",
       "    </tr>\n",
       "    <tr>\n",
       "      <th>2</th>\n",
       "      <td>5099</td>\n",
       "      <td>Chris</td>\n",
       "      <td>June 22 2019</td>\n",
       "    </tr>\n",
       "    <tr>\n",
       "      <th>3</th>\n",
       "      <td>5178</td>\n",
       "      <td>Shunichi</td>\n",
       "      <td>June 24 2019</td>\n",
       "    </tr>\n",
       "    <tr>\n",
       "      <th>4</th>\n",
       "      <td>5238</td>\n",
       "      <td>Ben</td>\n",
       "      <td>June 09 2019</td>\n",
       "    </tr>\n",
       "  </tbody>\n",
       "</table>\n",
       "</div>"
      ],
      "text/plain": [
       "   listing_id    host_name   last_review\n",
       "0        2595     Jennifer   May 21 2019\n",
       "1        3831  LisaRoxanne  July 05 2019\n",
       "2        5099        Chris  June 22 2019\n",
       "3        5178     Shunichi  June 24 2019\n",
       "4        5238          Ben  June 09 2019"
      ]
     },
     "execution_count": 1,
     "metadata": {},
     "output_type": "execute_result"
    }
   ],
   "source": [
    "import pandas as pd\n",
    "import numpy as np\n",
    "import seaborn as sns\n",
    "import matplotlib.pyplot as plt\n",
    "\n",
    "df_1 = pd.read_csv(r\"C:\\Users\\ashka\\Downloads\\DA202\\bb2f8633-7052-46d8-a1ca-8d0642c79573.tsv\", sep='\\t')\n",
    "df_1.head()"
   ]
  },
  {
   "cell_type": "code",
   "execution_count": 29,
   "id": "5a78c73d",
   "metadata": {},
   "outputs": [
    {
     "data": {
      "text/plain": [
       "count            25209\n",
       "unique             190\n",
       "top       June 23 2019\n",
       "freq              1413\n",
       "Name: last_review, dtype: object"
      ]
     },
     "execution_count": 29,
     "metadata": {},
     "output_type": "execute_result"
    }
   ],
   "source": [
    "df_1['last_review'].describe()"
   ]
  },
  {
   "cell_type": "markdown",
   "id": "16e97a2e",
   "metadata": {},
   "source": [
    "# Correcting the date format\n",
    "#copying the data in a new column and evaluating the date time objects"
   ]
  },
  {
   "cell_type": "code",
   "execution_count": 2,
   "id": "a8a7896f",
   "metadata": {
    "scrolled": true
   },
   "outputs": [
    {
     "data": {
      "text/plain": [
       "listing_id                        int64\n",
       "host_name                        object\n",
       "last_review                      object\n",
       "last_review_corrected    datetime64[ns]\n",
       "dtype: object"
      ]
     },
     "execution_count": 2,
     "metadata": {},
     "output_type": "execute_result"
    }
   ],
   "source": [
    "df_1['last_review_corrected'] = pd.to_datetime(df_1['last_review'], errors='coerce')\n",
    "df_1.dtypes"
   ]
  },
  {
   "cell_type": "code",
   "execution_count": 3,
   "id": "0e0f9b5a",
   "metadata": {},
   "outputs": [
    {
     "data": {
      "text/plain": [
       "min    April 01 2019\n",
       "max      May 31 2019\n",
       "Name: last_review, dtype: object"
      ]
     },
     "execution_count": 3,
     "metadata": {},
     "output_type": "execute_result"
    }
   ],
   "source": [
    "min_max = df_1['last_review'].agg(['min', 'max'])\n",
    "min_max"
   ]
  },
  {
   "cell_type": "code",
   "execution_count": 4,
   "id": "4dcd36e7",
   "metadata": {},
   "outputs": [
    {
     "data": {
      "text/plain": [
       "listing_id               0\n",
       "host_name                8\n",
       "last_review              0\n",
       "last_review_corrected    0\n",
       "dtype: int64"
      ]
     },
     "execution_count": 4,
     "metadata": {},
     "output_type": "execute_result"
    }
   ],
   "source": [
    "df_1.isna().sum()"
   ]
  },
  {
   "cell_type": "markdown",
   "id": "6f1c0f5e",
   "metadata": {},
   "source": [
    "# Deleted the now unnecessary datetime column, renaming the data frame and moving to loading the next file"
   ]
  },
  {
   "cell_type": "code",
   "execution_count": 5,
   "id": "400c2d0c",
   "metadata": {},
   "outputs": [
    {
     "data": {
      "text/html": [
       "<div>\n",
       "<style scoped>\n",
       "    .dataframe tbody tr th:only-of-type {\n",
       "        vertical-align: middle;\n",
       "    }\n",
       "\n",
       "    .dataframe tbody tr th {\n",
       "        vertical-align: top;\n",
       "    }\n",
       "\n",
       "    .dataframe thead th {\n",
       "        text-align: right;\n",
       "    }\n",
       "</style>\n",
       "<table border=\"1\" class=\"dataframe\">\n",
       "  <thead>\n",
       "    <tr style=\"text-align: right;\">\n",
       "      <th></th>\n",
       "      <th>listing_id</th>\n",
       "      <th>description</th>\n",
       "      <th>room_type</th>\n",
       "    </tr>\n",
       "  </thead>\n",
       "  <tbody>\n",
       "    <tr>\n",
       "      <th>0</th>\n",
       "      <td>2595</td>\n",
       "      <td>Skylit Midtown Castle</td>\n",
       "      <td>Entire home/apt</td>\n",
       "    </tr>\n",
       "    <tr>\n",
       "      <th>1</th>\n",
       "      <td>3831</td>\n",
       "      <td>Cozy Entire Floor of Brownstone</td>\n",
       "      <td>Entire home/apt</td>\n",
       "    </tr>\n",
       "    <tr>\n",
       "      <th>2</th>\n",
       "      <td>5099</td>\n",
       "      <td>Large Cozy 1 BR Apartment In Midtown East</td>\n",
       "      <td>Entire home/apt</td>\n",
       "    </tr>\n",
       "    <tr>\n",
       "      <th>3</th>\n",
       "      <td>5178</td>\n",
       "      <td>Large Furnished Room Near B'way</td>\n",
       "      <td>private room</td>\n",
       "    </tr>\n",
       "    <tr>\n",
       "      <th>4</th>\n",
       "      <td>5238</td>\n",
       "      <td>Cute &amp; Cozy Lower East Side 1 bdrm</td>\n",
       "      <td>Entire home/apt</td>\n",
       "    </tr>\n",
       "  </tbody>\n",
       "</table>\n",
       "</div>"
      ],
      "text/plain": [
       "   listing_id                                description        room_type\n",
       "0        2595                      Skylit Midtown Castle  Entire home/apt\n",
       "1        3831            Cozy Entire Floor of Brownstone  Entire home/apt\n",
       "2        5099  Large Cozy 1 BR Apartment In Midtown East  Entire home/apt\n",
       "3        5178            Large Furnished Room Near B'way     private room\n",
       "4        5238         Cute & Cozy Lower East Side 1 bdrm  Entire home/apt"
      ]
     },
     "execution_count": 5,
     "metadata": {},
     "output_type": "execute_result"
    }
   ],
   "source": [
    "reviews = df_1.copy()\n",
    "df_2 = pd.read_excel(r\"C:\\Users\\ashka\\Downloads\\DA202\\fd0c7c82-e0b4-4be9-8e07-004c01000d67.xlsx\")\n",
    "df_2.head()"
   ]
  },
  {
   "cell_type": "code",
   "execution_count": 6,
   "id": "16575795",
   "metadata": {},
   "outputs": [
    {
     "name": "stdout",
     "output_type": "stream",
     "text": [
      "<class 'pandas.core.frame.DataFrame'>\n",
      "RangeIndex: 25209 entries, 0 to 25208\n",
      "Data columns (total 3 columns):\n",
      " #   Column       Non-Null Count  Dtype \n",
      "---  ------       --------------  ----- \n",
      " 0   listing_id   25209 non-null  int64 \n",
      " 1   description  25199 non-null  object\n",
      " 2   room_type    25209 non-null  object\n",
      "dtypes: int64(1), object(2)\n",
      "memory usage: 591.0+ KB\n"
     ]
    }
   ],
   "source": [
    "df_2.info()"
   ]
  },
  {
   "cell_type": "code",
   "execution_count": 7,
   "id": "39e35736",
   "metadata": {},
   "outputs": [
    {
     "data": {
      "text/plain": [
       "Entire home/apt    8458\n",
       "Private room       7241\n",
       "entire home/apt    2665\n",
       "private room       2248\n",
       "ENTIRE HOME/APT    2143\n",
       "PRIVATE ROOM       1867\n",
       "Shared room         380\n",
       "shared room         110\n",
       "SHARED ROOM          97\n",
       "Name: room_type, dtype: int64"
      ]
     },
     "execution_count": 7,
     "metadata": {},
     "output_type": "execute_result"
    }
   ],
   "source": [
    "df_2['room_type'].value_counts()"
   ]
  },
  {
   "cell_type": "markdown",
   "id": "d7dcdc4c",
   "metadata": {},
   "source": [
    "# Normalizing the room types and giving the file an appropriate name"
   ]
  },
  {
   "cell_type": "code",
   "execution_count": 8,
   "id": "bb045186",
   "metadata": {},
   "outputs": [],
   "source": [
    "df_2['room_type'] = df_2['room_type'].str.strip()"
   ]
  },
  {
   "cell_type": "code",
   "execution_count": 9,
   "id": "76eac714",
   "metadata": {},
   "outputs": [],
   "source": [
    "df_2['room_type'] = df_2['room_type'].str.lower()"
   ]
  },
  {
   "cell_type": "code",
   "execution_count": 10,
   "id": "269f1734",
   "metadata": {},
   "outputs": [
    {
     "data": {
      "text/plain": [
       "entire home/apt    13266\n",
       "private room       11356\n",
       "shared room          587\n",
       "Name: room_type, dtype: int64"
      ]
     },
     "execution_count": 10,
     "metadata": {},
     "output_type": "execute_result"
    }
   ],
   "source": [
    "df_2['room_type'].value_counts()"
   ]
  },
  {
   "cell_type": "code",
   "execution_count": 11,
   "id": "774aad22",
   "metadata": {},
   "outputs": [
    {
     "name": "stdout",
     "output_type": "stream",
     "text": [
      "<class 'pandas.core.frame.DataFrame'>\n",
      "RangeIndex: 25209 entries, 0 to 25208\n",
      "Data columns (total 3 columns):\n",
      " #   Column       Non-Null Count  Dtype \n",
      "---  ------       --------------  ----- \n",
      " 0   listing_id   25209 non-null  int64 \n",
      " 1   description  25199 non-null  object\n",
      " 2   room_type    25209 non-null  object\n",
      "dtypes: int64(1), object(2)\n",
      "memory usage: 591.0+ KB\n"
     ]
    }
   ],
   "source": [
    "df_2.info()"
   ]
  },
  {
   "cell_type": "code",
   "execution_count": 12,
   "id": "db477f76",
   "metadata": {},
   "outputs": [],
   "source": [
    "rooms = df_2.copy()"
   ]
  },
  {
   "cell_type": "markdown",
   "id": "7f5ed8bd",
   "metadata": {},
   "source": [
    "# Moving on to the last file, loading and cleaning."
   ]
  },
  {
   "cell_type": "code",
   "execution_count": 13,
   "id": "d31ee841",
   "metadata": {},
   "outputs": [
    {
     "data": {
      "text/html": [
       "<div>\n",
       "<style scoped>\n",
       "    .dataframe tbody tr th:only-of-type {\n",
       "        vertical-align: middle;\n",
       "    }\n",
       "\n",
       "    .dataframe tbody tr th {\n",
       "        vertical-align: top;\n",
       "    }\n",
       "\n",
       "    .dataframe thead th {\n",
       "        text-align: right;\n",
       "    }\n",
       "</style>\n",
       "<table border=\"1\" class=\"dataframe\">\n",
       "  <thead>\n",
       "    <tr style=\"text-align: right;\">\n",
       "      <th></th>\n",
       "      <th>listing_id</th>\n",
       "      <th>price</th>\n",
       "      <th>nbhood_full</th>\n",
       "    </tr>\n",
       "  </thead>\n",
       "  <tbody>\n",
       "    <tr>\n",
       "      <th>0</th>\n",
       "      <td>2595</td>\n",
       "      <td>225 dollars</td>\n",
       "      <td>Manhattan, Midtown</td>\n",
       "    </tr>\n",
       "    <tr>\n",
       "      <th>1</th>\n",
       "      <td>3831</td>\n",
       "      <td>89 dollars</td>\n",
       "      <td>Brooklyn, Clinton Hill</td>\n",
       "    </tr>\n",
       "    <tr>\n",
       "      <th>2</th>\n",
       "      <td>5099</td>\n",
       "      <td>200 dollars</td>\n",
       "      <td>Manhattan, Murray Hill</td>\n",
       "    </tr>\n",
       "    <tr>\n",
       "      <th>3</th>\n",
       "      <td>5178</td>\n",
       "      <td>79 dollars</td>\n",
       "      <td>Manhattan, Hell's Kitchen</td>\n",
       "    </tr>\n",
       "    <tr>\n",
       "      <th>4</th>\n",
       "      <td>5238</td>\n",
       "      <td>150 dollars</td>\n",
       "      <td>Manhattan, Chinatown</td>\n",
       "    </tr>\n",
       "  </tbody>\n",
       "</table>\n",
       "</div>"
      ],
      "text/plain": [
       "   listing_id        price                nbhood_full\n",
       "0        2595  225 dollars         Manhattan, Midtown\n",
       "1        3831   89 dollars     Brooklyn, Clinton Hill\n",
       "2        5099  200 dollars     Manhattan, Murray Hill\n",
       "3        5178   79 dollars  Manhattan, Hell's Kitchen\n",
       "4        5238  150 dollars       Manhattan, Chinatown"
      ]
     },
     "execution_count": 13,
     "metadata": {},
     "output_type": "execute_result"
    }
   ],
   "source": [
    "df_3 = pd.read_csv(r\"C:\\Users\\ashka\\Downloads\\DA202\\8a201e4b-5529-4271-8b8c-65476487ad07.csv\")\n",
    "df_3.head()"
   ]
  },
  {
   "cell_type": "code",
   "execution_count": 14,
   "id": "3493a404",
   "metadata": {},
   "outputs": [],
   "source": [
    "df_3['price'] = df_3['price'].str.replace('dollars', '').astype('float')"
   ]
  },
  {
   "cell_type": "code",
   "execution_count": 15,
   "id": "adb3957b",
   "metadata": {},
   "outputs": [
    {
     "data": {
      "text/html": [
       "<div>\n",
       "<style scoped>\n",
       "    .dataframe tbody tr th:only-of-type {\n",
       "        vertical-align: middle;\n",
       "    }\n",
       "\n",
       "    .dataframe tbody tr th {\n",
       "        vertical-align: top;\n",
       "    }\n",
       "\n",
       "    .dataframe thead th {\n",
       "        text-align: right;\n",
       "    }\n",
       "</style>\n",
       "<table border=\"1\" class=\"dataframe\">\n",
       "  <thead>\n",
       "    <tr style=\"text-align: right;\">\n",
       "      <th></th>\n",
       "      <th>listing_id</th>\n",
       "      <th>price</th>\n",
       "    </tr>\n",
       "  </thead>\n",
       "  <tbody>\n",
       "    <tr>\n",
       "      <th>count</th>\n",
       "      <td>2.520900e+04</td>\n",
       "      <td>25209.000000</td>\n",
       "    </tr>\n",
       "    <tr>\n",
       "      <th>mean</th>\n",
       "      <td>2.068922e+07</td>\n",
       "      <td>141.777936</td>\n",
       "    </tr>\n",
       "    <tr>\n",
       "      <th>std</th>\n",
       "      <td>1.102928e+07</td>\n",
       "      <td>147.349137</td>\n",
       "    </tr>\n",
       "    <tr>\n",
       "      <th>min</th>\n",
       "      <td>2.595000e+03</td>\n",
       "      <td>0.000000</td>\n",
       "    </tr>\n",
       "    <tr>\n",
       "      <th>25%</th>\n",
       "      <td>1.202273e+07</td>\n",
       "      <td>69.000000</td>\n",
       "    </tr>\n",
       "    <tr>\n",
       "      <th>50%</th>\n",
       "      <td>2.234391e+07</td>\n",
       "      <td>105.000000</td>\n",
       "    </tr>\n",
       "    <tr>\n",
       "      <th>75%</th>\n",
       "      <td>3.037669e+07</td>\n",
       "      <td>175.000000</td>\n",
       "    </tr>\n",
       "    <tr>\n",
       "      <th>max</th>\n",
       "      <td>3.645581e+07</td>\n",
       "      <td>7500.000000</td>\n",
       "    </tr>\n",
       "  </tbody>\n",
       "</table>\n",
       "</div>"
      ],
      "text/plain": [
       "         listing_id         price\n",
       "count  2.520900e+04  25209.000000\n",
       "mean   2.068922e+07    141.777936\n",
       "std    1.102928e+07    147.349137\n",
       "min    2.595000e+03      0.000000\n",
       "25%    1.202273e+07     69.000000\n",
       "50%    2.234391e+07    105.000000\n",
       "75%    3.037669e+07    175.000000\n",
       "max    3.645581e+07   7500.000000"
      ]
     },
     "execution_count": 15,
     "metadata": {},
     "output_type": "execute_result"
    }
   ],
   "source": [
    "df_3.describe()"
   ]
  },
  {
   "cell_type": "code",
   "execution_count": 16,
   "id": "6c7d7ab1",
   "metadata": {},
   "outputs": [],
   "source": [
    "prices = df_3.copy()"
   ]
  },
  {
   "cell_type": "markdown",
   "id": "eeb94a2d",
   "metadata": {},
   "source": [
    "# joining the tables."
   ]
  },
  {
   "cell_type": "code",
   "execution_count": 17,
   "id": "7ad50a06",
   "metadata": {},
   "outputs": [
    {
     "data": {
      "text/html": [
       "<div>\n",
       "<style scoped>\n",
       "    .dataframe tbody tr th:only-of-type {\n",
       "        vertical-align: middle;\n",
       "    }\n",
       "\n",
       "    .dataframe tbody tr th {\n",
       "        vertical-align: top;\n",
       "    }\n",
       "\n",
       "    .dataframe thead th {\n",
       "        text-align: right;\n",
       "    }\n",
       "</style>\n",
       "<table border=\"1\" class=\"dataframe\">\n",
       "  <thead>\n",
       "    <tr style=\"text-align: right;\">\n",
       "      <th></th>\n",
       "      <th>listing_id</th>\n",
       "      <th>description</th>\n",
       "      <th>room_type</th>\n",
       "      <th>price</th>\n",
       "      <th>nbhood_full</th>\n",
       "      <th>host_name</th>\n",
       "      <th>last_review</th>\n",
       "      <th>last_review_corrected</th>\n",
       "    </tr>\n",
       "  </thead>\n",
       "  <tbody>\n",
       "    <tr>\n",
       "      <th>0</th>\n",
       "      <td>2595</td>\n",
       "      <td>Skylit Midtown Castle</td>\n",
       "      <td>entire home/apt</td>\n",
       "      <td>225.0</td>\n",
       "      <td>Manhattan, Midtown</td>\n",
       "      <td>Jennifer</td>\n",
       "      <td>May 21 2019</td>\n",
       "      <td>2019-05-21</td>\n",
       "    </tr>\n",
       "    <tr>\n",
       "      <th>1</th>\n",
       "      <td>3831</td>\n",
       "      <td>Cozy Entire Floor of Brownstone</td>\n",
       "      <td>entire home/apt</td>\n",
       "      <td>89.0</td>\n",
       "      <td>Brooklyn, Clinton Hill</td>\n",
       "      <td>LisaRoxanne</td>\n",
       "      <td>July 05 2019</td>\n",
       "      <td>2019-07-05</td>\n",
       "    </tr>\n",
       "    <tr>\n",
       "      <th>2</th>\n",
       "      <td>5099</td>\n",
       "      <td>Large Cozy 1 BR Apartment In Midtown East</td>\n",
       "      <td>entire home/apt</td>\n",
       "      <td>200.0</td>\n",
       "      <td>Manhattan, Murray Hill</td>\n",
       "      <td>Chris</td>\n",
       "      <td>June 22 2019</td>\n",
       "      <td>2019-06-22</td>\n",
       "    </tr>\n",
       "    <tr>\n",
       "      <th>3</th>\n",
       "      <td>5178</td>\n",
       "      <td>Large Furnished Room Near B'way</td>\n",
       "      <td>private room</td>\n",
       "      <td>79.0</td>\n",
       "      <td>Manhattan, Hell's Kitchen</td>\n",
       "      <td>Shunichi</td>\n",
       "      <td>June 24 2019</td>\n",
       "      <td>2019-06-24</td>\n",
       "    </tr>\n",
       "    <tr>\n",
       "      <th>4</th>\n",
       "      <td>5238</td>\n",
       "      <td>Cute &amp; Cozy Lower East Side 1 bdrm</td>\n",
       "      <td>entire home/apt</td>\n",
       "      <td>150.0</td>\n",
       "      <td>Manhattan, Chinatown</td>\n",
       "      <td>Ben</td>\n",
       "      <td>June 09 2019</td>\n",
       "      <td>2019-06-09</td>\n",
       "    </tr>\n",
       "    <tr>\n",
       "      <th>5</th>\n",
       "      <td>5295</td>\n",
       "      <td>Beautiful 1br on Upper West Side</td>\n",
       "      <td>entire home/apt</td>\n",
       "      <td>135.0</td>\n",
       "      <td>Manhattan, Upper West Side</td>\n",
       "      <td>Lena</td>\n",
       "      <td>June 22 2019</td>\n",
       "      <td>2019-06-22</td>\n",
       "    </tr>\n",
       "    <tr>\n",
       "      <th>6</th>\n",
       "      <td>5441</td>\n",
       "      <td>Central Manhattan/near Broadway</td>\n",
       "      <td>private room</td>\n",
       "      <td>85.0</td>\n",
       "      <td>Manhattan, Hell's Kitchen</td>\n",
       "      <td>Kate</td>\n",
       "      <td>June 23 2019</td>\n",
       "      <td>2019-06-23</td>\n",
       "    </tr>\n",
       "    <tr>\n",
       "      <th>7</th>\n",
       "      <td>5803</td>\n",
       "      <td>Lovely Room 1, Garden, Best Area, Legal rental</td>\n",
       "      <td>private room</td>\n",
       "      <td>89.0</td>\n",
       "      <td>Brooklyn, South Slope</td>\n",
       "      <td>Laurie</td>\n",
       "      <td>June 24 2019</td>\n",
       "      <td>2019-06-24</td>\n",
       "    </tr>\n",
       "    <tr>\n",
       "      <th>8</th>\n",
       "      <td>6021</td>\n",
       "      <td>Wonderful Guest Bedroom in Manhattan for SINGLES</td>\n",
       "      <td>private room</td>\n",
       "      <td>85.0</td>\n",
       "      <td>Manhattan, Upper West Side</td>\n",
       "      <td>Claudio</td>\n",
       "      <td>July 05 2019</td>\n",
       "      <td>2019-07-05</td>\n",
       "    </tr>\n",
       "    <tr>\n",
       "      <th>9</th>\n",
       "      <td>6848</td>\n",
       "      <td>Only 2 stops to Manhattan studio</td>\n",
       "      <td>entire home/apt</td>\n",
       "      <td>140.0</td>\n",
       "      <td>Brooklyn, Williamsburg</td>\n",
       "      <td>Allen &amp; Irina</td>\n",
       "      <td>June 29 2019</td>\n",
       "      <td>2019-06-29</td>\n",
       "    </tr>\n",
       "  </tbody>\n",
       "</table>\n",
       "</div>"
      ],
      "text/plain": [
       "   listing_id                                       description  \\\n",
       "0        2595                             Skylit Midtown Castle   \n",
       "1        3831                   Cozy Entire Floor of Brownstone   \n",
       "2        5099         Large Cozy 1 BR Apartment In Midtown East   \n",
       "3        5178                   Large Furnished Room Near B'way   \n",
       "4        5238                Cute & Cozy Lower East Side 1 bdrm   \n",
       "5        5295                  Beautiful 1br on Upper West Side   \n",
       "6        5441                   Central Manhattan/near Broadway   \n",
       "7        5803    Lovely Room 1, Garden, Best Area, Legal rental   \n",
       "8        6021  Wonderful Guest Bedroom in Manhattan for SINGLES   \n",
       "9        6848                  Only 2 stops to Manhattan studio   \n",
       "\n",
       "         room_type  price                 nbhood_full      host_name  \\\n",
       "0  entire home/apt  225.0          Manhattan, Midtown       Jennifer   \n",
       "1  entire home/apt   89.0      Brooklyn, Clinton Hill    LisaRoxanne   \n",
       "2  entire home/apt  200.0      Manhattan, Murray Hill          Chris   \n",
       "3     private room   79.0   Manhattan, Hell's Kitchen       Shunichi   \n",
       "4  entire home/apt  150.0        Manhattan, Chinatown            Ben   \n",
       "5  entire home/apt  135.0  Manhattan, Upper West Side           Lena   \n",
       "6     private room   85.0   Manhattan, Hell's Kitchen           Kate   \n",
       "7     private room   89.0       Brooklyn, South Slope         Laurie   \n",
       "8     private room   85.0  Manhattan, Upper West Side        Claudio   \n",
       "9  entire home/apt  140.0      Brooklyn, Williamsburg  Allen & Irina   \n",
       "\n",
       "    last_review last_review_corrected  \n",
       "0   May 21 2019            2019-05-21  \n",
       "1  July 05 2019            2019-07-05  \n",
       "2  June 22 2019            2019-06-22  \n",
       "3  June 24 2019            2019-06-24  \n",
       "4  June 09 2019            2019-06-09  \n",
       "5  June 22 2019            2019-06-22  \n",
       "6  June 23 2019            2019-06-23  \n",
       "7  June 24 2019            2019-06-24  \n",
       "8  July 05 2019            2019-07-05  \n",
       "9  June 29 2019            2019-06-29  "
      ]
     },
     "execution_count": 17,
     "metadata": {},
     "output_type": "execute_result"
    }
   ],
   "source": [
    "merged_1 = rooms.merge(prices, on=\"listing_id\").merge(reviews, on=\"listing_id\")\n",
    "merged_1.head(10)"
   ]
  },
  {
   "cell_type": "code",
   "execution_count": 18,
   "id": "b6869aa5",
   "metadata": {},
   "outputs": [
    {
     "data": {
      "text/plain": [
       "listing_id                0\n",
       "description              10\n",
       "room_type                 0\n",
       "price                     0\n",
       "nbhood_full               0\n",
       "host_name                 8\n",
       "last_review               0\n",
       "last_review_corrected     0\n",
       "dtype: int64"
      ]
     },
     "execution_count": 18,
     "metadata": {},
     "output_type": "execute_result"
    }
   ],
   "source": [
    "df = merged_1.copy()\n",
    "df.isna().sum()"
   ]
  },
  {
   "cell_type": "code",
   "execution_count": 19,
   "id": "719f40a6",
   "metadata": {},
   "outputs": [
    {
     "data": {
      "text/plain": [
       "0"
      ]
     },
     "execution_count": 19,
     "metadata": {},
     "output_type": "execute_result"
    }
   ],
   "source": [
    "df.duplicated().sum()"
   ]
  },
  {
   "cell_type": "code",
   "execution_count": 20,
   "id": "b1ebd48e",
   "metadata": {},
   "outputs": [
    {
     "data": {
      "text/plain": [
       "listing_id                        int64\n",
       "description                      object\n",
       "room_type                        object\n",
       "price                           float64\n",
       "nbhood_full                      object\n",
       "host_name                        object\n",
       "last_review                      object\n",
       "last_review_corrected    datetime64[ns]\n",
       "dtype: object"
      ]
     },
     "execution_count": 20,
     "metadata": {},
     "output_type": "execute_result"
    }
   ],
   "source": [
    "df.dtypes"
   ]
  },
  {
   "cell_type": "code",
   "execution_count": 21,
   "id": "44b024a3",
   "metadata": {},
   "outputs": [
    {
     "data": {
      "text/plain": [
       "141.7779364512674"
      ]
     },
     "execution_count": 21,
     "metadata": {},
     "output_type": "execute_result"
    }
   ],
   "source": [
    "average_price = prices['price'].mean()\n",
    "average_price"
   ]
  },
  {
   "cell_type": "code",
   "execution_count": 22,
   "id": "6b4b9590",
   "metadata": {
    "scrolled": true
   },
   "outputs": [
    {
     "data": {
      "text/plain": [
       "count    25209.000000\n",
       "mean       141.777936\n",
       "std        147.349137\n",
       "min          0.000000\n",
       "25%         69.000000\n",
       "50%        105.000000\n",
       "75%        175.000000\n",
       "max       7500.000000\n",
       "Name: price, dtype: float64"
      ]
     },
     "execution_count": 22,
     "metadata": {},
     "output_type": "execute_result"
    }
   ],
   "source": [
    "df['price'].describe()"
   ]
  },
  {
   "cell_type": "markdown",
   "id": "e14cba3b",
   "metadata": {},
   "source": [
    "# Preliminary visualizations to understand the data"
   ]
  },
  {
   "cell_type": "code",
   "execution_count": 23,
   "id": "b8dd3e2d",
   "metadata": {},
   "outputs": [
    {
     "name": "stderr",
     "output_type": "stream",
     "text": [
      "C:\\Users\\ashka\\anaconda3\\lib\\site-packages\\seaborn\\distributions.py:2619: FutureWarning: `distplot` is a deprecated function and will be removed in a future version. Please adapt your code to use either `displot` (a figure-level function with similar flexibility) or `histplot` (an axes-level function for histograms).\n",
      "  warnings.warn(msg, FutureWarning)\n"
     ]
    },
    {
     "data": {
      "image/png": "[encoded data removed]",
      "text/plain": [
       "<Figure size 640x480 with 1 Axes>"
      ]
     },
     "metadata": {},
     "output_type": "display_data"
    }
   ],
   "source": [
    "sns.distplot(df['price'], kde=False)\n",
    "plt.title('Distribution of Price')\n",
    "plt.show()"
   ]
  },
  {
   "cell_type": "code",
   "execution_count": 24,
   "id": "af7c44bd",
   "metadata": {},
   "outputs": [
    {
     "data": {
      "image/png": "[encoded data removed]",
      "text/plain": [
       "<Figure size 640x480 with 1 Axes>"
      ]
     },
     "metadata": {},
     "output_type": "display_data"
    }
   ],
   "source": [
    "df['room_type'] = df['room_type'].astype('category')\n",
    "sns.scatterplot(x='room_type', y='price', data=df)\n",
    "plt.title('Scatter Plot of Price')\n",
    "plt.show()"
   ]
  },
  {
   "cell_type": "code",
   "execution_count": 25,
   "id": "28e2a773",
   "metadata": {},
   "outputs": [
    {
     "data": {
      "image/png": "[encoded data removed]",
      "text/plain": [
       "<Figure size 640x480 with 1 Axes>"
      ]
     },
     "metadata": {},
     "output_type": "display_data"
    }
   ],
   "source": [
    "sns.boxplot(x=df['price'])\n",
    "plt.title('Box Plot of Price')\n",
    "plt.show()"
   ]
  },
  {
   "cell_type": "code",
   "execution_count": 26,
   "id": "0fee4de0",
   "metadata": {
    "scrolled": true
   },
   "outputs": [
    {
     "data": {
      "text/html": [
       "<div>\n",
       "<style scoped>\n",
       "    .dataframe tbody tr th:only-of-type {\n",
       "        vertical-align: middle;\n",
       "    }\n",
       "\n",
       "    .dataframe tbody tr th {\n",
       "        vertical-align: top;\n",
       "    }\n",
       "\n",
       "    .dataframe thead th {\n",
       "        text-align: right;\n",
       "    }\n",
       "</style>\n",
       "<table border=\"1\" class=\"dataframe\">\n",
       "  <thead>\n",
       "    <tr style=\"text-align: right;\">\n",
       "      <th></th>\n",
       "      <th>listing_id</th>\n",
       "      <th>description</th>\n",
       "      <th>room_type</th>\n",
       "      <th>price</th>\n",
       "      <th>nbhood_full</th>\n",
       "      <th>host_name</th>\n",
       "      <th>last_review</th>\n",
       "      <th>last_review_corrected</th>\n",
       "    </tr>\n",
       "  </thead>\n",
       "  <tbody>\n",
       "    <tr>\n",
       "      <th>23916</th>\n",
       "      <td>34895693</td>\n",
       "      <td>Gem of east Flatbush</td>\n",
       "      <td>private room</td>\n",
       "      <td>7500.0</td>\n",
       "      <td>Brooklyn, East Flatbush</td>\n",
       "      <td>Sandra</td>\n",
       "      <td>July 07 2019</td>\n",
       "      <td>2019-07-07</td>\n",
       "    </tr>\n",
       "    <tr>\n",
       "      <th>22085</th>\n",
       "      <td>33397385</td>\n",
       "      <td>Midtown Manhattan great location (Gramacy park)</td>\n",
       "      <td>entire home/apt</td>\n",
       "      <td>5100.0</td>\n",
       "      <td>Manhattan, Midtown</td>\n",
       "      <td>Debra</td>\n",
       "      <td>June 22 2019</td>\n",
       "      <td>2019-06-22</td>\n",
       "    </tr>\n",
       "    <tr>\n",
       "      <th>18430</th>\n",
       "      <td>30035166</td>\n",
       "      <td>4-Floor Unique Event Space 50P Cap. - #10299B</td>\n",
       "      <td>entire home/apt</td>\n",
       "      <td>5000.0</td>\n",
       "      <td>Manhattan, Harlem</td>\n",
       "      <td>Rasmus</td>\n",
       "      <td>February 23 2019</td>\n",
       "      <td>2019-02-23</td>\n",
       "    </tr>\n",
       "    <tr>\n",
       "      <th>21731</th>\n",
       "      <td>33029434</td>\n",
       "      <td>West 84th Street by (Hidden by Airbnb)</td>\n",
       "      <td>entire home/apt</td>\n",
       "      <td>3613.0</td>\n",
       "      <td>Manhattan, Upper West Side</td>\n",
       "      <td>Sally</td>\n",
       "      <td>June 15 2019</td>\n",
       "      <td>2019-06-15</td>\n",
       "    </tr>\n",
       "    <tr>\n",
       "      <th>12508</th>\n",
       "      <td>22263855</td>\n",
       "      <td>SPECTACULAR SOHO GREAT ROOM LOFT 6000sq feet</td>\n",
       "      <td>entire home/apt</td>\n",
       "      <td>3000.0</td>\n",
       "      <td>Manhattan, SoHo</td>\n",
       "      <td>Stephanie</td>\n",
       "      <td>June 30 2019</td>\n",
       "      <td>2019-06-30</td>\n",
       "    </tr>\n",
       "    <tr>\n",
       "      <th>24432</th>\n",
       "      <td>35297214</td>\n",
       "      <td>Amazing Chelsea 4BR Loft!</td>\n",
       "      <td>entire home/apt</td>\n",
       "      <td>2995.0</td>\n",
       "      <td>Manhattan, Chelsea</td>\n",
       "      <td>Viberlyn</td>\n",
       "      <td>June 24 2019</td>\n",
       "      <td>2019-06-24</td>\n",
       "    </tr>\n",
       "    <tr>\n",
       "      <th>13528</th>\n",
       "      <td>23860219</td>\n",
       "      <td>Designer's Beautiful 2BR Apartment in NOLITA/SOHO</td>\n",
       "      <td>entire home/apt</td>\n",
       "      <td>2990.0</td>\n",
       "      <td>Manhattan, Nolita</td>\n",
       "      <td>Ilo And Richard</td>\n",
       "      <td>June 29 2019</td>\n",
       "      <td>2019-06-29</td>\n",
       "    </tr>\n",
       "    <tr>\n",
       "      <th>21838</th>\n",
       "      <td>33133321</td>\n",
       "      <td>Majestic Mansion LifeStyle :)</td>\n",
       "      <td>entire home/apt</td>\n",
       "      <td>2600.0</td>\n",
       "      <td>Queens, Bayside</td>\n",
       "      <td>Shah</td>\n",
       "      <td>May 30 2019</td>\n",
       "      <td>2019-05-30</td>\n",
       "    </tr>\n",
       "    <tr>\n",
       "      <th>1234</th>\n",
       "      <td>893413</td>\n",
       "      <td>Architecturally Stunning Former Synagogue!</td>\n",
       "      <td>entire home/apt</td>\n",
       "      <td>2500.0</td>\n",
       "      <td>Manhattan, East Village</td>\n",
       "      <td>Martin</td>\n",
       "      <td>July 01 2019</td>\n",
       "      <td>2019-07-01</td>\n",
       "    </tr>\n",
       "    <tr>\n",
       "      <th>14282</th>\n",
       "      <td>25018204</td>\n",
       "      <td>Paradise Garden, Spa, Steam &amp; Massage Table #1...</td>\n",
       "      <td>entire home/apt</td>\n",
       "      <td>2500.0</td>\n",
       "      <td>Manhattan, Harlem</td>\n",
       "      <td>Rasmus</td>\n",
       "      <td>June 24 2019</td>\n",
       "      <td>2019-06-24</td>\n",
       "    </tr>\n",
       "  </tbody>\n",
       "</table>\n",
       "</div>"
      ],
      "text/plain": [
       "       listing_id                                        description  \\\n",
       "23916    34895693                               Gem of east Flatbush   \n",
       "22085    33397385    Midtown Manhattan great location (Gramacy park)   \n",
       "18430    30035166      4-Floor Unique Event Space 50P Cap. - #10299B   \n",
       "21731    33029434             West 84th Street by (Hidden by Airbnb)   \n",
       "12508    22263855       SPECTACULAR SOHO GREAT ROOM LOFT 6000sq feet   \n",
       "24432    35297214                          Amazing Chelsea 4BR Loft!   \n",
       "13528    23860219  Designer's Beautiful 2BR Apartment in NOLITA/SOHO   \n",
       "21838    33133321                      Majestic Mansion LifeStyle :)   \n",
       "1234       893413         Architecturally Stunning Former Synagogue!   \n",
       "14282    25018204  Paradise Garden, Spa, Steam & Massage Table #1...   \n",
       "\n",
       "             room_type   price                 nbhood_full        host_name  \\\n",
       "23916     private room  7500.0     Brooklyn, East Flatbush           Sandra   \n",
       "22085  entire home/apt  5100.0          Manhattan, Midtown            Debra   \n",
       "18430  entire home/apt  5000.0           Manhattan, Harlem           Rasmus   \n",
       "21731  entire home/apt  3613.0  Manhattan, Upper West Side            Sally   \n",
       "12508  entire home/apt  3000.0             Manhattan, SoHo        Stephanie   \n",
       "24432  entire home/apt  2995.0          Manhattan, Chelsea         Viberlyn   \n",
       "13528  entire home/apt  2990.0           Manhattan, Nolita  Ilo And Richard   \n",
       "21838  entire home/apt  2600.0             Queens, Bayside             Shah   \n",
       "1234   entire home/apt  2500.0     Manhattan, East Village           Martin   \n",
       "14282  entire home/apt  2500.0           Manhattan, Harlem           Rasmus   \n",
       "\n",
       "            last_review last_review_corrected  \n",
       "23916      July 07 2019            2019-07-07  \n",
       "22085      June 22 2019            2019-06-22  \n",
       "18430  February 23 2019            2019-02-23  \n",
       "21731      June 15 2019            2019-06-15  \n",
       "12508      June 30 2019            2019-06-30  \n",
       "24432      June 24 2019            2019-06-24  \n",
       "13528      June 29 2019            2019-06-29  \n",
       "21838       May 30 2019            2019-05-30  \n",
       "1234       July 01 2019            2019-07-01  \n",
       "14282      June 24 2019            2019-06-24  "
      ]
     },
     "execution_count": 26,
     "metadata": {},
     "output_type": "execute_result"
    }
   ],
   "source": [
    "top_10_prices = df.nlargest(10, 'price')\n",
    "top_10_prices"
   ]
  },
  {
   "cell_type": "markdown",
   "id": "445f4f6b",
   "metadata": {},
   "source": [
    "# Creating price bins to better understand the distribution"
   ]
  },
  {
   "cell_type": "code",
   "execution_count": 27,
   "id": "49245d8e",
   "metadata": {
    "scrolled": true
   },
   "outputs": [
    {
     "name": "stdout",
     "output_type": "stream",
     "text": [
      "   price_range  count\n",
      "0       Budget    381\n",
      "1      Average    286\n",
      "2    Expensive     25\n",
      "3  Extravagant      5\n"
     ]
    },
    {
     "name": "stderr",
     "output_type": "stream",
     "text": [
      "C:\\Users\\ashka\\AppData\\Local\\Temp\\ipykernel_24040\\184855309.py:9: SettingWithCopyWarning: \n",
      "A value is trying to be set on a copy of a slice from a DataFrame.\n",
      "Try using .loc[row_indexer,col_indexer] = value instead\n",
      "\n",
      "See the caveats in the documentation: https://pandas.pydata.org/pandas-docs/stable/user_guide/indexing.html#returning-a-view-versus-a-copy\n",
      "  bronx_data['price_range'] = pd.cut(bronx_data['price'], bins=bins, labels=labels)\n"
     ]
    }
   ],
   "source": [
    "# Create the price range bins\n",
    "bins = [0, 69, 175, 350, float('inf')]\n",
    "labels = ['Budget', 'Average', 'Expensive', 'Extravagant']\n",
    "\n",
    "# Filter the data for the Bronx borough\n",
    "bronx_data = df[df['nbhood_full'].str.contains('Bronx')]\n",
    "\n",
    "# Create a new column 'price_range' based on the price values\n",
    "bronx_data['price_range'] = pd.cut(bronx_data['price'], bins=bins, labels=labels)\n",
    "\n",
    "# Group the data by price range and count the number of listings\n",
    "result = bronx_data.groupby('price_range').size().reset_index(name='count')\n",
    "\n",
    "# Print the result\n",
    "print(result)"
   ]
  },
  {
   "cell_type": "markdown",
   "id": "9628aab0",
   "metadata": {},
   "source": [
    "# Decided to remove the ouliers and check the mean again"
   ]
  },
  {
   "cell_type": "code",
   "execution_count": 28,
   "id": "7e82d9f1",
   "metadata": {},
   "outputs": [
    {
     "name": "stdout",
     "output_type": "stream",
     "text": [
      "Number of Outliers: 1326\n",
      "Percentage of Outliers: 5.260026181125788 %\n",
      "Mean Price (without outliers): 119.14998115814596\n"
     ]
    }
   ],
   "source": [
    "# Calculate the IQR\n",
    "Q1 = df['price'].quantile(0.25)\n",
    "Q3 = df['price'].quantile(0.75)\n",
    "IQR = Q3 - Q1\n",
    "\n",
    "# Define the lower and upper bounds for outliers\n",
    "lower_bound = Q1 - 1.5 * IQR\n",
    "upper_bound = Q3 + 1.5 * IQR\n",
    "\n",
    "# Filter the DataFrame to remove outliers\n",
    "df_filtered = df[(df['price'] >= lower_bound) & (df['price'] <= upper_bound)]\n",
    "\n",
    "# Calculate the number of outliers\n",
    "num_outliers = df.shape[0] - df_filtered.shape[0]\n",
    "\n",
    "# Calculate the percentage of outliers\n",
    "percentage_outliers = (num_outliers / df.shape[0]) * 100\n",
    "\n",
    "# Calculate the mean price without outliers\n",
    "mean_price = df_filtered['price'].mean()\n",
    "\n",
    "# Print the number of outliers, percentage of outliers, and the mean price\n",
    "print(\"Number of Outliers:\", num_outliers)\n",
    "print(\"Percentage of Outliers:\", percentage_outliers, \"%\")\n",
    "print(\"Mean Price (without outliers):\", mean_price)\n"
   ]
  },
  {
   "cell_type": "code",
   "execution_count": null,
   "id": "a7bde9a4",
   "metadata": {},
   "outputs": [],
   "source": []
  }
 ],
 "metadata": {
  "kernelspec": {
   "display_name": "Python 3 (ipykernel)",
   "language": "python",
   "name": "python3"
  },
  "language_info": {
   "codemirror_mode": {
    "name": "ipython",
    "version": 3
   },
   "file_extension": ".py",
   "mimetype": "text/x-python",
   "name": "python",
   "nbconvert_exporter": "python",
   "pygments_lexer": "ipython3",
   "version": "3.9.13"
  }
 },
 "nbformat": 4,
 "nbformat_minor": 5
}
